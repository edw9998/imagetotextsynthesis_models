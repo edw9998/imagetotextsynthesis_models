{
  "metadata": {
    "kernelspec": {
      "language": "python",
      "display_name": "Python 3",
      "name": "python3"
    },
    "language_info": {
      "name": "python",
      "version": "3.7.12",
      "mimetype": "text/x-python",
      "codemirror_mode": {
        "name": "ipython",
        "version": 3
      },
      "pygments_lexer": "ipython3",
      "nbconvert_exporter": "python",
      "file_extension": ".py"
    },
    "kaggle": {
      "accelerator": "none",
      "dataSources": [
        {
          "sourceId": 1111676,
          "sourceType": "datasetVersion",
          "datasetId": 623289
        }
      ],
      "dockerImageVersionId": 30192,
      "isInternetEnabled": true,
      "language": "python",
      "sourceType": "notebook",
      "isGpuEnabled": false
    },
    "colab": {
      "name": "VGG16-LSTM_Flickr8K",
      "provenance": []
    }
  },
  "nbformat_minor": 0,
  "nbformat": 4,
  "cells": [
    {
      "source": [
        "# IMPORTANT: RUN THIS CELL IN ORDER TO IMPORT YOUR KAGGLE DATA SOURCES,\n",
        "# THEN FEEL FREE TO DELETE THIS CELL.\n",
        "# NOTE: THIS NOTEBOOK ENVIRONMENT DIFFERS FROM KAGGLE'S PYTHON\n",
        "# ENVIRONMENT SO THERE MAY BE MISSING LIBRARIES USED BY YOUR\n",
        "# NOTEBOOK.\n",
        "import kagglehub\n",
        "adityajn105_flickr8k_path = kagglehub.dataset_download('adityajn105/flickr8k')\n",
        "\n",
        "print('Data source import complete.')"
      ],
      "metadata": {
        "id": "1W-C8DVx4p-v"
      },
      "cell_type": "code",
      "outputs": [],
      "execution_count": null
    },
    {
      "cell_type": "markdown",
      "source": [
        "# Image Caption Generator with CNN & LSTM\n",
        "\n",
        "You saw an image and your brain can easily tell what the image is about, but can a computer tell what the image is representing? Computer vision researchers worked on this a lot and they considered it impossible until now! With the advancement in Deep learning techniques, availability of huge datasets and computer power, we can build models that can generate captions for an image.\n",
        "\n",
        "This is what we are going to implement in this Python based project where we will use deep learning techniques of Convolutional Neural Networks and a type of Recurrent Neural Network (LSTM) together.\n",
        "\n",
        "## What is Image Caption Generator?\n",
        "\n",
        "Image caption generator is a task that involves computer vision and natural language processing concepts to recognize the context of an image and describe them in a natural language like English."
      ],
      "metadata": {
        "_uuid": "8f2839f25d086af736a60e9eeb907d3b93b6e0e5",
        "_cell_guid": "b1076dfc-b9ad-4769-8c92-a6c4dae69d19",
        "id": "9PVD6xrR4p-z"
      }
    },
    {
      "cell_type": "markdown",
      "source": [
        "### Image Caption Generator with CNN – About the Python based Project\n",
        "\n",
        "The objective of our project is to learn the concepts of a CNN and LSTM model and build a working model of Image caption generator by implementing CNN with LSTM.\n",
        "\n",
        "In this Python project, we will be implementing the caption generator using **CNN (Convolutional Neural Networks)*** and LSTM **(Long short term memory)**. The image features will be extracted from Xception which is a CNN model trained on the imagenet dataset and then we feed the features into the LSTM model which will be responsible for generating the image captions."
      ],
      "metadata": {
        "id": "6VpGQXFa4p-1"
      }
    },
    {
      "cell_type": "markdown",
      "source": [
        "# The Dataset of Python based Project\n",
        "\n",
        "For the image caption generator, we will be using the Flickr_8K dataset. There are also other big datasets like Flickr_30K and MSCOCO dataset but it can take weeks just to train the network so we will be using a small Flickr8k dataset. The advantage of a huge dataset is that we can build better models.\n",
        "\n",
        "we get dataset from **Kaggle** you can download it from here also : <a href=\"https://www.kaggle.com/datasets/adityajn105/flickr8k\">Kaggle-Flicker8k</a> (Size: 1GB).\n"
      ],
      "metadata": {
        "id": "jMHrmW5y4p-3"
      }
    },
    {
      "cell_type": "markdown",
      "source": [
        "#### Let's Begin to code."
      ],
      "metadata": {
        "id": "LeyL_ONN4p-3"
      }
    },
    {
      "cell_type": "markdown",
      "source": [
        "# Import Modules"
      ],
      "metadata": {
        "id": "5d7pTEco4p-4"
      }
    },
    {
      "cell_type": "code",
      "source": [
        "import os   # handling the files\n",
        "import pickle # storing numpy features\n",
        "import numpy as np\n",
        "from tqdm.notebook import tqdm # how much data is process till now\n",
        "\n",
        "from tensorflow.keras.applications.vgg16 import VGG16 , preprocess_input # extract features from image data.\n",
        "from tensorflow.keras.preprocessing.image import load_img , img_to_array\n",
        "from tensorflow.keras.preprocessing.text import Tokenizer\n",
        "from tensorflow.keras.preprocessing.sequence import pad_sequences\n",
        "from tensorflow.keras.models import Model\n",
        "from tensorflow.keras.utils import to_categorical, plot_model\n",
        "from tensorflow.keras.layers import Input , Dense , LSTM , Embedding , Dropout , add"
      ],
      "metadata": {
        "execution": {
          "iopub.status.busy": "2024-10-20T14:09:08.745375Z",
          "iopub.execute_input": "2024-10-20T14:09:08.745759Z",
          "iopub.status.idle": "2024-10-20T14:09:14.329918Z",
          "shell.execute_reply.started": "2024-10-20T14:09:08.745652Z",
          "shell.execute_reply": "2024-10-20T14:09:14.329182Z"
        },
        "trusted": true,
        "id": "h92wPCGp4p-4"
      },
      "outputs": [],
      "execution_count": null
    },
    {
      "cell_type": "markdown",
      "source": [
        "**os** - used to handle files using system commands.\n",
        "\n",
        "**pickle** - used to store numpy features extracted\n",
        "\n",
        "**numpy** - used to perform a wide variety of mathematical operations on arrays\n",
        "\n",
        "**tqdm** - progress bar decorator for iterators. Includes a default range iterator printing to stderr.\n",
        "\n",
        "**VGG16, preprocess_input** - imported modules for feature extraction from the image data\n",
        "\n",
        "**load_img, img_to_array** - used for loading the image and converting the image to a numpy array\n",
        "\n",
        "**Tokenizer** - used for loading the text as convert them into a token\n",
        "\n",
        "**pad_sequences** - used for equal distribution of words in sentences filling the remaining spaces with zeros\n",
        "\n",
        "**plot_model** - used to visualize the architecture of the model through different images"
      ],
      "metadata": {
        "id": "Vr50PgPg4p-4"
      }
    },
    {
      "cell_type": "markdown",
      "source": [
        "#### Now we must set the directories to use the data"
      ],
      "metadata": {
        "id": "BVa6hhQV4p-5"
      }
    },
    {
      "cell_type": "code",
      "source": [
        "BASE_DIR = '/kaggle/input/flickr8k'\n",
        "WORKING_DIR = '/kaggle/working'"
      ],
      "metadata": {
        "execution": {
          "iopub.status.busy": "2024-10-20T14:09:14.331546Z",
          "iopub.execute_input": "2024-10-20T14:09:14.331913Z",
          "iopub.status.idle": "2024-10-20T14:09:14.335698Z",
          "shell.execute_reply.started": "2024-10-20T14:09:14.331872Z",
          "shell.execute_reply": "2024-10-20T14:09:14.335011Z"
        },
        "trusted": true,
        "id": "Wd5DV7114p-5"
      },
      "outputs": [],
      "execution_count": null
    },
    {
      "cell_type": "markdown",
      "source": [
        "# Extract Image Features\n",
        "\n",
        "We have to load and restructure the model\n",
        "\n",
        "VGG-16 is a convolutional neural network that is 16 layers deep. You can load a pretrained version of the network trained on more than a million images from the ImageNet database [1]. The pretrained network can classify images into 1000 object categories, such as keyboard, mouse, pencil, and many animals."
      ],
      "metadata": {
        "id": "_me43ucc4p-6"
      }
    },
    {
      "cell_type": "code",
      "source": [
        "# Load vgg16 Model\n",
        "model = VGG16()\n",
        "\n",
        "# restructure model\n",
        "model = Model(inputs = model.inputs , outputs = model.layers[-2].output)\n",
        "\n",
        "# Summerize\n",
        "print(model.summary())"
      ],
      "metadata": {
        "execution": {
          "iopub.status.busy": "2024-10-20T14:09:14.336863Z",
          "iopub.execute_input": "2024-10-20T14:09:14.337171Z",
          "iopub.status.idle": "2024-10-20T14:09:32.181448Z",
          "shell.execute_reply.started": "2024-10-20T14:09:14.337123Z",
          "shell.execute_reply": "2024-10-20T14:09:32.180691Z"
        },
        "trusted": true,
        "id": "ge-REYT14p-6"
      },
      "outputs": [],
      "execution_count": null
    },
    {
      "cell_type": "markdown",
      "source": [
        "+ Fully connected layer of the VGG16 model is not needed, just the previous layers to extract feature results.\n",
        "\n",
        "+ By preference you may include more layers, but for quicker results avoid adding the unnecessary layers."
      ],
      "metadata": {
        "id": "1xOOW-8t4p-7"
      }
    },
    {
      "cell_type": "markdown",
      "source": [
        "# extract the image features\n",
        "Now we extract the image features and load the data for preprocess"
      ],
      "metadata": {
        "id": "p9y5cCPE4p-7"
      }
    },
    {
      "cell_type": "code",
      "source": [
        "# extract features from image\n",
        "features = {}\n",
        "directory = os.path.join(BASE_DIR, 'Images')\n",
        "\n",
        "for img_name in tqdm(os.listdir(directory)):\n",
        "    # load the image from file\n",
        "    img_path = directory + '/' + img_name\n",
        "    image = load_img(img_path, target_size=(224, 224))\n",
        "    # convert image pixels to numpy array\n",
        "    image = img_to_array(image)\n",
        "    # reshape data for model\n",
        "    image = image.reshape((1, image.shape[0], image.shape[1], image.shape[2]))\n",
        "    # preprocess image for vgg\n",
        "    image = preprocess_input(image)\n",
        "    # extract features\n",
        "    feature = model.predict(image, verbose=0)\n",
        "    # get image ID\n",
        "    image_id = img_name.split('.')[0]\n",
        "    # store feature\n",
        "    features[image_id] = feature"
      ],
      "metadata": {
        "execution": {
          "iopub.status.busy": "2024-10-20T14:09:32.183127Z",
          "iopub.execute_input": "2024-10-20T14:09:32.183359Z",
          "iopub.status.idle": "2024-10-20T14:17:07.684313Z",
          "shell.execute_reply.started": "2024-10-20T14:09:32.18333Z",
          "shell.execute_reply": "2024-10-20T14:17:07.683558Z"
        },
        "trusted": true,
        "id": "-hfcN0gH4p-7"
      },
      "outputs": [],
      "execution_count": null
    },
    {
      "cell_type": "markdown",
      "source": [
        "Dictionary 'features' is created and will be loaded with the extracted features of image data\n",
        "\n",
        "**load_img(img_path, target_size=(224, 224))** - custom dimension to resize the image when loaded to the array\n",
        "\n",
        "**image.reshape((1, image.shape[0], image.shape[1], image.shape[2]))** - reshaping the image data to preprocess in a RGB type image.\n",
        "\n",
        "**model.predict(image, verbose=0)** - extraction of features from the image\n",
        "\n",
        "**img_name.split('.')[0]** - split of the image name from the extension to load only the image name."
      ],
      "metadata": {
        "id": "00b6T88X4p-8"
      }
    },
    {
      "cell_type": "code",
      "source": [
        "# store features in pickle\n",
        "pickle.dump(features, open(os.path.join(WORKING_DIR, 'features.pkl'), 'wb'))"
      ],
      "metadata": {
        "execution": {
          "iopub.status.busy": "2024-10-20T14:17:07.685382Z",
          "iopub.execute_input": "2024-10-20T14:17:07.685575Z",
          "iopub.status.idle": "2024-10-20T14:17:08.038759Z",
          "shell.execute_reply.started": "2024-10-20T14:17:07.685549Z",
          "shell.execute_reply": "2024-10-20T14:17:08.037946Z"
        },
        "trusted": true,
        "id": "G_MDDXah4p-8"
      },
      "outputs": [],
      "execution_count": null
    },
    {
      "cell_type": "markdown",
      "source": [
        "Extracted features are not stored in the disk, so re-extraction of features can extend running time\n",
        "\n",
        "Dumps and store your dictionary in a pickle for reloading it to save time"
      ],
      "metadata": {
        "id": "ROafj8DA4p-8"
      }
    },
    {
      "cell_type": "code",
      "source": [
        "# load features from pickle\n",
        "with open(os.path.join(WORKING_DIR, 'features.pkl'), 'rb') as f:\n",
        "    features = pickle.load(f)"
      ],
      "metadata": {
        "execution": {
          "iopub.status.busy": "2024-10-20T14:17:08.039918Z",
          "iopub.execute_input": "2024-10-20T14:17:08.04015Z",
          "iopub.status.idle": "2024-10-20T14:17:08.21719Z",
          "shell.execute_reply.started": "2024-10-20T14:17:08.040121Z",
          "shell.execute_reply": "2024-10-20T14:17:08.216519Z"
        },
        "trusted": true,
        "id": "gSXmWq7T4p-8"
      },
      "outputs": [],
      "execution_count": null
    },
    {
      "cell_type": "markdown",
      "source": [
        "Load all your stored feature data to your project for quicker runtime"
      ],
      "metadata": {
        "id": "lnbfe3wP4p-8"
      }
    },
    {
      "cell_type": "markdown",
      "source": [
        "## Load the Captions Data\n",
        "\n",
        "Let us store the captions data from the text file"
      ],
      "metadata": {
        "id": "dxcqw9s94p-8"
      }
    },
    {
      "cell_type": "code",
      "source": [
        "with open(os.path.join(BASE_DIR, 'captions.txt'), 'r') as f:\n",
        "    next(f)\n",
        "    captions_doc = f.read()"
      ],
      "metadata": {
        "execution": {
          "iopub.status.busy": "2024-10-20T14:17:08.219195Z",
          "iopub.execute_input": "2024-10-20T14:17:08.219409Z",
          "iopub.status.idle": "2024-10-20T14:17:08.28502Z",
          "shell.execute_reply.started": "2024-10-20T14:17:08.219383Z",
          "shell.execute_reply": "2024-10-20T14:17:08.284391Z"
        },
        "trusted": true,
        "id": "kmyHXDrk4p-9"
      },
      "outputs": [],
      "execution_count": null
    },
    {
      "cell_type": "markdown",
      "source": [
        "### Now we split and append the captions data with the image"
      ],
      "metadata": {
        "id": "fiYDI1TB4p-9"
      }
    },
    {
      "cell_type": "code",
      "source": [
        "# create mapping of image to captions\n",
        "mapping = {}\n",
        "# process lines\n",
        "for line in tqdm(captions_doc.split('\\n')):\n",
        "    # split the line by comma(,)\n",
        "    tokens = line.split(',')\n",
        "    if len(line) < 2:\n",
        "        continue\n",
        "    image_id, caption = tokens[0], tokens[1:]\n",
        "    # remove extension from image ID\n",
        "    image_id = image_id.split('.')[0]\n",
        "    # convert caption list to string\n",
        "    caption = \" \".join(caption)\n",
        "    # create list if needed\n",
        "    if image_id not in mapping:\n",
        "        mapping[image_id] = []\n",
        "    # store the caption\n",
        "    mapping[image_id].append(caption)"
      ],
      "metadata": {
        "execution": {
          "iopub.status.busy": "2024-10-20T14:17:08.285992Z",
          "iopub.execute_input": "2024-10-20T14:17:08.28619Z",
          "iopub.status.idle": "2024-10-20T14:17:08.443761Z",
          "shell.execute_reply.started": "2024-10-20T14:17:08.286165Z",
          "shell.execute_reply": "2024-10-20T14:17:08.443044Z"
        },
        "trusted": true,
        "id": "W91W58ja4p-9"
      },
      "outputs": [],
      "execution_count": null
    },
    {
      "cell_type": "markdown",
      "source": [
        "+ Dictionary 'mapping' is created with key as image_id and values as the corresponding caption text\n",
        "\n",
        "+ Same image may have multiple captions, **if image_id not in mapping: mapping[image_id] = []** creates a list for appending captions to the corresponding image"
      ],
      "metadata": {
        "id": "NBwycrID4p-9"
      }
    },
    {
      "cell_type": "markdown",
      "source": [
        "#### Now let us see the no. of images loaded"
      ],
      "metadata": {
        "id": "jexzVxBS4p-9"
      }
    },
    {
      "cell_type": "code",
      "source": [
        "len(mapping)"
      ],
      "metadata": {
        "execution": {
          "iopub.status.busy": "2024-10-20T14:17:08.445029Z",
          "iopub.execute_input": "2024-10-20T14:17:08.445599Z",
          "iopub.status.idle": "2024-10-20T14:17:08.453841Z",
          "shell.execute_reply.started": "2024-10-20T14:17:08.445555Z",
          "shell.execute_reply": "2024-10-20T14:17:08.453071Z"
        },
        "trusted": true,
        "id": "fm0SNzZd4p-9"
      },
      "outputs": [],
      "execution_count": null
    },
    {
      "cell_type": "markdown",
      "source": [
        "# Preprocess Text Data"
      ],
      "metadata": {
        "id": "Np2ogdYP4p-9"
      }
    },
    {
      "cell_type": "code",
      "source": [
        "def clean(mapping):\n",
        "    for key, captions in mapping.items():\n",
        "        for i in range(len(captions)):\n",
        "            # take one caption at a time\n",
        "            caption = captions[i]\n",
        "            # preprocessing steps\n",
        "            # convert to lowercase\n",
        "            caption = caption.lower()\n",
        "            # delete digits, special chars, etc.,\n",
        "            caption = caption.replace('[^A-Za-z]', '')\n",
        "            # delete additional spaces\n",
        "            caption = caption.replace('\\s+', ' ')\n",
        "            # add start and end tags to the caption\n",
        "            caption = 'startseq ' + \" \".join([word for word in caption.split() if len(word)>1]) + ' endseq'\n",
        "            captions[i] = caption"
      ],
      "metadata": {
        "execution": {
          "iopub.status.busy": "2024-10-20T14:17:08.457328Z",
          "iopub.execute_input": "2024-10-20T14:17:08.45767Z",
          "iopub.status.idle": "2024-10-20T14:17:08.465286Z",
          "shell.execute_reply.started": "2024-10-20T14:17:08.457632Z",
          "shell.execute_reply": "2024-10-20T14:17:08.464525Z"
        },
        "trusted": true,
        "id": "H6fM78g74p-9"
      },
      "outputs": [],
      "execution_count": null
    },
    {
      "cell_type": "markdown",
      "source": [
        "Defined to clean and convert the text for quicker process and better results"
      ],
      "metadata": {
        "id": "eEs9mfel4p--"
      }
    },
    {
      "cell_type": "markdown",
      "source": [
        "Let us visualize the text **before** and **after** cleaning"
      ],
      "metadata": {
        "id": "Q_N2k5x14p--"
      }
    },
    {
      "cell_type": "code",
      "source": [
        "# before preprocess of text\n",
        "mapping['1000268201_693b08cb0e']"
      ],
      "metadata": {
        "execution": {
          "iopub.status.busy": "2024-10-20T14:17:08.466376Z",
          "iopub.execute_input": "2024-10-20T14:17:08.466642Z",
          "iopub.status.idle": "2024-10-20T14:17:08.476478Z",
          "shell.execute_reply.started": "2024-10-20T14:17:08.466615Z",
          "shell.execute_reply": "2024-10-20T14:17:08.475767Z"
        },
        "trusted": true,
        "id": "rXUyRmBa4p--"
      },
      "outputs": [],
      "execution_count": null
    },
    {
      "cell_type": "code",
      "source": [
        "# preprocess the text\n",
        "clean(mapping)"
      ],
      "metadata": {
        "execution": {
          "iopub.status.busy": "2024-10-20T14:17:08.477407Z",
          "iopub.execute_input": "2024-10-20T14:17:08.477873Z",
          "iopub.status.idle": "2024-10-20T14:17:08.649439Z",
          "shell.execute_reply.started": "2024-10-20T14:17:08.477833Z",
          "shell.execute_reply": "2024-10-20T14:17:08.648789Z"
        },
        "trusted": true,
        "id": "7AwFQC3t4p--"
      },
      "outputs": [],
      "execution_count": null
    },
    {
      "cell_type": "code",
      "source": [
        "# after preprocess of text\n",
        "mapping['1000268201_693b08cb0e']"
      ],
      "metadata": {
        "execution": {
          "iopub.status.busy": "2024-10-20T14:17:08.650579Z",
          "iopub.execute_input": "2024-10-20T14:17:08.650884Z",
          "iopub.status.idle": "2024-10-20T14:17:08.656267Z",
          "shell.execute_reply.started": "2024-10-20T14:17:08.650845Z",
          "shell.execute_reply": "2024-10-20T14:17:08.655532Z"
        },
        "trusted": true,
        "id": "fHtJu-Rn4p--"
      },
      "outputs": [],
      "execution_count": null
    },
    {
      "cell_type": "markdown",
      "source": [
        "#### Next we will store the preprocessed captions into a list"
      ],
      "metadata": {
        "id": "O3jjCKwA4p--"
      }
    },
    {
      "cell_type": "code",
      "source": [
        "all_captions = []\n",
        "for key in mapping:\n",
        "    for caption in mapping[key]:\n",
        "        all_captions.append(caption)"
      ],
      "metadata": {
        "execution": {
          "iopub.status.busy": "2024-10-20T14:17:08.65731Z",
          "iopub.execute_input": "2024-10-20T14:17:08.657551Z",
          "iopub.status.idle": "2024-10-20T14:17:08.677269Z",
          "shell.execute_reply.started": "2024-10-20T14:17:08.657522Z",
          "shell.execute_reply": "2024-10-20T14:17:08.676533Z"
        },
        "trusted": true,
        "id": "I2eDYPAh4p--"
      },
      "outputs": [],
      "execution_count": null
    },
    {
      "cell_type": "code",
      "source": [
        "len(all_captions)"
      ],
      "metadata": {
        "execution": {
          "iopub.status.busy": "2024-10-20T14:17:08.678471Z",
          "iopub.execute_input": "2024-10-20T14:17:08.678689Z",
          "iopub.status.idle": "2024-10-20T14:17:08.68847Z",
          "shell.execute_reply.started": "2024-10-20T14:17:08.678641Z",
          "shell.execute_reply": "2024-10-20T14:17:08.687733Z"
        },
        "trusted": true,
        "id": "a7mp9cVn4p-_"
      },
      "outputs": [],
      "execution_count": null
    },
    {
      "cell_type": "markdown",
      "source": [
        "No. of unique captions stored"
      ],
      "metadata": {
        "id": "JuZeANi64p-_"
      }
    },
    {
      "cell_type": "markdown",
      "source": [
        "# 10 Captions\n",
        "Let us see the first ten captions"
      ],
      "metadata": {
        "id": "PG7hyxqf4p-_"
      }
    },
    {
      "cell_type": "code",
      "source": [
        "all_captions[:10]"
      ],
      "metadata": {
        "execution": {
          "iopub.status.busy": "2024-10-20T14:17:08.689396Z",
          "iopub.execute_input": "2024-10-20T14:17:08.689634Z",
          "iopub.status.idle": "2024-10-20T14:17:08.697508Z",
          "shell.execute_reply.started": "2024-10-20T14:17:08.689607Z",
          "shell.execute_reply": "2024-10-20T14:17:08.696786Z"
        },
        "trusted": true,
        "id": "m_nUBREI4p_D"
      },
      "outputs": [],
      "execution_count": null
    },
    {
      "cell_type": "markdown",
      "source": [
        "# Processing of Text Data\n",
        "Now we start processing the text data"
      ],
      "metadata": {
        "id": "CF9_H7dt4p_D"
      }
    },
    {
      "cell_type": "code",
      "source": [
        "# tokenize the text\n",
        "tokenizer = Tokenizer()\n",
        "tokenizer.fit_on_texts(all_captions)\n",
        "vocab_size = len(tokenizer.word_index) + 1"
      ],
      "metadata": {
        "execution": {
          "iopub.status.busy": "2024-10-20T14:17:08.69866Z",
          "iopub.execute_input": "2024-10-20T14:17:08.699229Z",
          "iopub.status.idle": "2024-10-20T14:17:09.436524Z",
          "shell.execute_reply.started": "2024-10-20T14:17:08.699193Z",
          "shell.execute_reply": "2024-10-20T14:17:09.435688Z"
        },
        "trusted": true,
        "id": "N98oUS1j4p_D"
      },
      "outputs": [],
      "execution_count": null
    },
    {
      "cell_type": "code",
      "source": [
        "vocab_size"
      ],
      "metadata": {
        "execution": {
          "iopub.status.busy": "2024-10-20T14:17:09.437554Z",
          "iopub.execute_input": "2024-10-20T14:17:09.437786Z",
          "iopub.status.idle": "2024-10-20T14:17:09.442964Z",
          "shell.execute_reply.started": "2024-10-20T14:17:09.437732Z",
          "shell.execute_reply": "2024-10-20T14:17:09.442184Z"
        },
        "trusted": true,
        "id": "ggHPGqf74p_E"
      },
      "outputs": [],
      "execution_count": null
    },
    {
      "cell_type": "markdown",
      "source": [
        "No. of unique words"
      ],
      "metadata": {
        "id": "qZZos6n44p_E"
      }
    },
    {
      "cell_type": "code",
      "source": [
        "# get maximum length of the caption available\n",
        "max_length = max(len(caption.split()) for caption in all_captions)\n",
        "max_length"
      ],
      "metadata": {
        "execution": {
          "iopub.status.busy": "2024-10-20T14:17:09.444108Z",
          "iopub.execute_input": "2024-10-20T14:17:09.444363Z",
          "iopub.status.idle": "2024-10-20T14:17:09.486113Z",
          "shell.execute_reply.started": "2024-10-20T14:17:09.444329Z",
          "shell.execute_reply": "2024-10-20T14:17:09.485398Z"
        },
        "trusted": true,
        "id": "y55eit_G4p_E"
      },
      "outputs": [],
      "execution_count": null
    },
    {
      "cell_type": "markdown",
      "source": [
        "+ Finding the maximum length of the captions, used for reference for the padding sequence."
      ],
      "metadata": {
        "id": "d-utBClR4p_E"
      }
    },
    {
      "cell_type": "markdown",
      "source": [
        "# Train Test Split"
      ],
      "metadata": {
        "id": "wtJCg3tn4p_E"
      }
    },
    {
      "cell_type": "markdown",
      "source": [
        "#### After preprocessing the data now we will train, test and split"
      ],
      "metadata": {
        "id": "xLYu8U6a4p_E"
      }
    },
    {
      "cell_type": "code",
      "source": [
        "image_ids = list(mapping.keys())\n",
        "split = int(len(image_ids) * 0.90)\n",
        "train = image_ids[:split]\n",
        "test = image_ids[split:]"
      ],
      "metadata": {
        "execution": {
          "iopub.status.busy": "2024-10-20T14:17:09.487126Z",
          "iopub.execute_input": "2024-10-20T14:17:09.487328Z",
          "iopub.status.idle": "2024-10-20T14:17:09.493387Z",
          "shell.execute_reply.started": "2024-10-20T14:17:09.487303Z",
          "shell.execute_reply": "2024-10-20T14:17:09.492651Z"
        },
        "trusted": true,
        "id": "S0dA2Sg94p_E"
      },
      "outputs": [],
      "execution_count": null
    },
    {
      "cell_type": "markdown",
      "source": [
        "**Now we will define a batch and include the padding sequence**"
      ],
      "metadata": {
        "id": "apEJVTrC4p_E"
      }
    },
    {
      "cell_type": "code",
      "source": [
        "# create data generator to get data in batch (avoids session crash)\n",
        "def data_generator(data_keys, mapping, features, tokenizer, max_length, vocab_size, batch_size):\n",
        "    # loop over images\n",
        "    X1, X2, y = list(), list(), list()\n",
        "    n = 0\n",
        "    while 1:\n",
        "        for key in data_keys:\n",
        "            n += 1\n",
        "            captions = mapping[key]\n",
        "            # process each caption\n",
        "            for caption in captions:\n",
        "                # encode the sequence\n",
        "                seq = tokenizer.texts_to_sequences([caption])[0]\n",
        "                # split the sequence into X, y pairs\n",
        "                for i in range(1, len(seq)):\n",
        "                    # split into input and output pairs\n",
        "                    in_seq, out_seq = seq[:i], seq[i]\n",
        "                    # pad input sequence\n",
        "                    in_seq = pad_sequences([in_seq], maxlen=max_length)[0]\n",
        "                    # encode output sequence\n",
        "                    out_seq = to_categorical([out_seq],num_classes=vocab_size)[0]\n",
        "                    # store the sequences\n",
        "                    X1.append(features[key][0])\n",
        "                    X2.append(in_seq)\n",
        "                    y.append(out_seq)\n",
        "            if n == batch_size:\n",
        "                X1, X2, y = np.array(X1), np.array(X2), np.array(y)\n",
        "                yield [X1, X2], y\n",
        "                X1, X2, y = list(), list(), list()\n",
        "                n = 0"
      ],
      "metadata": {
        "execution": {
          "iopub.status.busy": "2024-10-20T14:17:09.494531Z",
          "iopub.execute_input": "2024-10-20T14:17:09.494731Z",
          "iopub.status.idle": "2024-10-20T14:17:09.504645Z",
          "shell.execute_reply.started": "2024-10-20T14:17:09.494693Z",
          "shell.execute_reply": "2024-10-20T14:17:09.503932Z"
        },
        "trusted": true,
        "id": "mrk6gkBU4p_F"
      },
      "outputs": [],
      "execution_count": null
    },
    {
      "cell_type": "markdown",
      "source": [
        "Padding sequence normalizes the size of all captions to the max size filling them with zeros for better results."
      ],
      "metadata": {
        "id": "jsp4153M4p_F"
      }
    },
    {
      "cell_type": "markdown",
      "source": [
        "# Model Creation"
      ],
      "metadata": {
        "id": "rAyNooal4p_F"
      }
    },
    {
      "cell_type": "code",
      "source": [
        "# encoder model\n",
        "# image feature layers\n",
        "inputs1 = Input(shape=(4096,))\n",
        "fe1 = Dropout(0.4)(inputs1)\n",
        "fe2 = Dense(256, activation='relu')(fe1)\n",
        "# sequence feature layers\n",
        "inputs2 = Input(shape=(max_length,))\n",
        "se1 = Embedding(vocab_size, 256, mask_zero=True)(inputs2)\n",
        "se2 = Dropout(0.4)(se1)\n",
        "se3 = LSTM(256)(se2)\n",
        "\n",
        "# decoder model\n",
        "decoder1 = add([fe2, se3])\n",
        "decoder2 = Dense(256, activation='relu')(decoder1)\n",
        "outputs = Dense(vocab_size, activation='softmax')(decoder2)\n",
        "\n",
        "model = Model(inputs=[inputs1, inputs2], outputs=outputs)\n",
        "model.compile(loss='categorical_crossentropy', optimizer='adam')\n",
        "\n",
        "# plot the model\n",
        "plot_model(model, show_shapes=True)"
      ],
      "metadata": {
        "execution": {
          "iopub.status.busy": "2024-10-20T14:17:09.505799Z",
          "iopub.execute_input": "2024-10-20T14:17:09.506051Z",
          "iopub.status.idle": "2024-10-20T14:17:11.610799Z",
          "shell.execute_reply.started": "2024-10-20T14:17:09.506017Z",
          "shell.execute_reply": "2024-10-20T14:17:11.609922Z"
        },
        "trusted": true,
        "id": "UqQ_A5eg4p_F"
      },
      "outputs": [],
      "execution_count": null
    },
    {
      "cell_type": "markdown",
      "source": [
        "+ **shape=(4096,)** - output length of the features from the VGG model\n",
        "\n",
        "+ **Dense** - single dimension linear layer array\n",
        "\n",
        "+ **Dropout()** - used to add regularization to the data, avoiding over fitting & dropping out a fraction of the data from the layers\n",
        "\n",
        "+ **model.compile()** - compilation of the model\n",
        "\n",
        "+ **loss=’sparse_categorical_crossentropy’** - loss function for category outputs\n",
        "\n",
        "+ **optimizer=’adam’** - automatically adjust the learning rate for the model over the no. of epochs\n",
        "\n",
        "+ Model plot shows the concatenation of the inputs and outputs into a single layer\n",
        "\n",
        "+ Feature extraction of image was already done using VGG, no CNN model was needed in this step."
      ],
      "metadata": {
        "id": "n-xqVbQZ4p_F"
      }
    },
    {
      "cell_type": "markdown",
      "source": [
        "# Train Model\n",
        "Now let us train the model"
      ],
      "metadata": {
        "id": "QLLy8aEg4p_G"
      }
    },
    {
      "cell_type": "code",
      "source": [
        "# train the model\n",
        "epochs = 20\n",
        "batch_size = 32\n",
        "steps = len(train) // batch_size\n",
        "\n",
        "for i in range(epochs):\n",
        "    # create data generator\n",
        "    generator = data_generator(train, mapping, features, tokenizer, max_length, vocab_size, batch_size)\n",
        "    # fit for one epoch\n",
        "    model.fit(generator, epochs=1, steps_per_epoch=steps, verbose=1)"
      ],
      "metadata": {
        "execution": {
          "iopub.status.busy": "2024-10-20T14:17:11.612201Z",
          "iopub.execute_input": "2024-10-20T14:17:11.612424Z",
          "iopub.status.idle": "2024-10-20T14:37:19.667235Z",
          "shell.execute_reply.started": "2024-10-20T14:17:11.612394Z",
          "shell.execute_reply": "2024-10-20T14:37:19.666322Z"
        },
        "trusted": true,
        "id": "6YilBdJ34p_G"
      },
      "outputs": [],
      "execution_count": null
    },
    {
      "cell_type": "markdown",
      "source": [
        "+ **steps = len(train) // batch_size** - back propagation and fetch the next data\n",
        "\n",
        "+ Loss decreases gradually over the iterations\n",
        "\n",
        "+ Increase the no. of epochs for better results\n",
        "\n",
        "+ Assign the no. of epochs and batch size accordingly for quicker results\n",
        "\n",
        "\n",
        "### You can save the model in the working directory for reuse"
      ],
      "metadata": {
        "id": "4dWWQFFH4p_G"
      }
    },
    {
      "cell_type": "code",
      "source": [
        "# save the model\n",
        "model.save(WORKING_DIR+'/best_model.h5')"
      ],
      "metadata": {
        "execution": {
          "iopub.status.busy": "2024-10-20T14:37:19.668483Z",
          "iopub.execute_input": "2024-10-20T14:37:19.668705Z",
          "iopub.status.idle": "2024-10-20T14:37:19.795538Z",
          "shell.execute_reply.started": "2024-10-20T14:37:19.668676Z",
          "shell.execute_reply": "2024-10-20T14:37:19.794809Z"
        },
        "trusted": true,
        "id": "0EA3IFop4p_G"
      },
      "outputs": [],
      "execution_count": null
    },
    {
      "cell_type": "markdown",
      "source": [
        "# Generate Captions for the Image"
      ],
      "metadata": {
        "id": "OqMP6KwU4p_G"
      }
    },
    {
      "cell_type": "code",
      "source": [
        "def idx_to_word(integer, tokenizer):\n",
        "    for word, index in tokenizer.word_index.items():\n",
        "        if index == integer:\n",
        "            return word\n",
        "    return None"
      ],
      "metadata": {
        "execution": {
          "iopub.status.busy": "2024-10-20T14:37:19.796561Z",
          "iopub.execute_input": "2024-10-20T14:37:19.796762Z",
          "iopub.status.idle": "2024-10-20T14:37:19.801435Z",
          "shell.execute_reply.started": "2024-10-20T14:37:19.796724Z",
          "shell.execute_reply": "2024-10-20T14:37:19.800717Z"
        },
        "trusted": true,
        "id": "hVovHfBB4p_H"
      },
      "outputs": [],
      "execution_count": null
    },
    {
      "cell_type": "markdown",
      "source": [
        "+ Convert the predicted index from the model into a word"
      ],
      "metadata": {
        "id": "Cec50bb24p_H"
      }
    },
    {
      "cell_type": "code",
      "source": [
        "# generate caption for an image\n",
        "def predict_caption(model, image, tokenizer, max_length):\n",
        "    # add start tag for generation process\n",
        "    in_text = 'startseq'\n",
        "    # iterate over the max length of sequence\n",
        "    for i in range(max_length):\n",
        "        # encode input sequence\n",
        "        sequence = tokenizer.texts_to_sequences([in_text])[0]\n",
        "        # pad the sequence\n",
        "        sequence = pad_sequences([sequence], max_length)\n",
        "        # predict next word\n",
        "        yhat = model.predict([image, sequence], verbose=0)\n",
        "        # get index with high probability\n",
        "        yhat = np.argmax(yhat)\n",
        "        # convert index to word\n",
        "        word = idx_to_word(yhat, tokenizer)\n",
        "        # stop if word not found\n",
        "        if word is None:\n",
        "            break\n",
        "        # append word as input for generating next word\n",
        "        in_text += \" \" + word\n",
        "        # stop if we reach end tag\n",
        "        if word == 'endseq':\n",
        "            break\n",
        "    return in_text"
      ],
      "metadata": {
        "execution": {
          "iopub.status.busy": "2024-10-20T14:37:19.8027Z",
          "iopub.execute_input": "2024-10-20T14:37:19.802973Z",
          "iopub.status.idle": "2024-10-20T14:37:19.815002Z",
          "shell.execute_reply.started": "2024-10-20T14:37:19.802938Z",
          "shell.execute_reply": "2024-10-20T14:37:19.814193Z"
        },
        "trusted": true,
        "id": "IZWfZHcF4p_H"
      },
      "outputs": [],
      "execution_count": null
    },
    {
      "cell_type": "markdown",
      "source": [
        "+ Captiongenerator appending all the words for an image\n",
        "\n",
        "+ The caption starts with 'startseq' and the model continues to predict the caption until the 'endseq' appeared"
      ],
      "metadata": {
        "id": "mcnI89iN4p_H"
      }
    },
    {
      "cell_type": "markdown",
      "source": [
        "# Model Validation\n",
        "Now we validate the data using BLEU Score"
      ],
      "metadata": {
        "id": "Qzj0XngW4p_H"
      }
    },
    {
      "cell_type": "code",
      "source": [
        "from nltk.translate.bleu_score import corpus_bleu\n",
        "# validate with test data\n",
        "actual, predicted = list(), list()\n",
        "\n",
        "for key in tqdm(test):\n",
        "    # get actual caption\n",
        "    captions = mapping[key]\n",
        "    # predict the caption for image\n",
        "    y_pred = predict_caption(model, features[key], tokenizer, max_length)\n",
        "    # split into words\n",
        "    actual_captions = [caption.split() for caption in captions]\n",
        "    y_pred = y_pred.split()\n",
        "    # append to the list\n",
        "    actual.append(actual_captions)\n",
        "    predicted.append(y_pred)\n",
        "\n",
        "# calculate BLEU scores\n",
        "print(\"BLEU-1: %f\" % corpus_bleu(actual, predicted, weights=(1.0, 0, 0, 0)))\n",
        "print(\"BLEU-2: %f\" % corpus_bleu(actual, predicted, weights=(0.5, 0.5, 0, 0)))\n",
        "print(\"BLEU-3: %f\" % corpus_bleu(actual, predicted, weights=(0.33, 0.33, 0.33, 0)))\n",
        "print(\"BLEU-4: %f\" % corpus_bleu(actual, predicted, weights=(0.25, 0.25, 0.25, 0.25)))"
      ],
      "metadata": {
        "execution": {
          "iopub.status.busy": "2024-10-20T14:37:19.816036Z",
          "iopub.execute_input": "2024-10-20T14:37:19.816258Z",
          "iopub.status.idle": "2024-10-20T14:43:29.39686Z",
          "shell.execute_reply.started": "2024-10-20T14:37:19.816227Z",
          "shell.execute_reply": "2024-10-20T14:43:29.396112Z"
        },
        "trusted": true,
        "id": "2gOmsgKy4p_H"
      },
      "outputs": [],
      "execution_count": null
    },
    {
      "cell_type": "markdown",
      "source": [
        "+ BLEU Score is used to evaluate the predicted text against a reference text, in a list of tokens.\n",
        "\n",
        "+ The reference text contains all the words appended from the captions data (actual_captions)\n",
        "\n",
        "+ A BLEU Score more than **0.4 is considered a good result**, for a better score increase the no. of epochs accordingly."
      ],
      "metadata": {
        "id": "42jl60ll4p_I"
      }
    },
    {
      "cell_type": "markdown",
      "source": [
        "## Visualize the Results"
      ],
      "metadata": {
        "id": "6_R0OX6_4p_I"
      }
    },
    {
      "cell_type": "code",
      "source": [
        "from PIL import Image\n",
        "import matplotlib.pyplot as plt\n",
        "def generate_caption(image_name):\n",
        "    # load the image\n",
        "    # image_name = \"1001773457_577c3a7d70.jpg\"\n",
        "    image_id = image_name.split('.')[0]\n",
        "    img_path = os.path.join(BASE_DIR, \"Images\", image_name)\n",
        "    image = Image.open(img_path)\n",
        "    captions = mapping[image_id]\n",
        "    print('---------------------Actual---------------------')\n",
        "    for caption in captions:\n",
        "        print(caption)\n",
        "    # predict the caption\n",
        "    y_pred = predict_caption(model, features[image_id], tokenizer, max_length)\n",
        "    print('--------------------Predicted--------------------')\n",
        "    print(y_pred)\n",
        "    plt.imshow(image)"
      ],
      "metadata": {
        "execution": {
          "iopub.status.busy": "2024-10-20T14:43:29.401815Z",
          "iopub.execute_input": "2024-10-20T14:43:29.402045Z",
          "iopub.status.idle": "2024-10-20T14:43:29.408761Z",
          "shell.execute_reply.started": "2024-10-20T14:43:29.402016Z",
          "shell.execute_reply": "2024-10-20T14:43:29.407989Z"
        },
        "trusted": true,
        "id": "Jd61MifU4p_I"
      },
      "outputs": [],
      "execution_count": null
    },
    {
      "cell_type": "markdown",
      "source": [
        "+ Image caption generator defined\n",
        "\n",
        "+ First prints the actual captions of the image then prints a predicted caption of the image"
      ],
      "metadata": {
        "id": "uCN0bcHM4p_I"
      }
    },
    {
      "cell_type": "code",
      "source": [
        "generate_caption(\"1001773457_577c3a7d70.jpg\")"
      ],
      "metadata": {
        "execution": {
          "iopub.status.busy": "2024-10-20T14:43:29.409944Z",
          "iopub.execute_input": "2024-10-20T14:43:29.410201Z",
          "iopub.status.idle": "2024-10-20T14:43:30.159644Z",
          "shell.execute_reply.started": "2024-10-20T14:43:29.410167Z",
          "shell.execute_reply": "2024-10-20T14:43:30.158935Z"
        },
        "trusted": true,
        "id": "Wa314a1b4p_I"
      },
      "outputs": [],
      "execution_count": null
    },
    {
      "cell_type": "code",
      "source": [
        "generate_caption(\"1002674143_1b742ab4b8.jpg\")"
      ],
      "metadata": {
        "execution": {
          "iopub.status.busy": "2024-10-20T14:43:30.160804Z",
          "iopub.execute_input": "2024-10-20T14:43:30.160998Z",
          "iopub.status.idle": "2024-10-20T14:43:30.889288Z",
          "shell.execute_reply.started": "2024-10-20T14:43:30.160973Z",
          "shell.execute_reply": "2024-10-20T14:43:30.88859Z"
        },
        "trusted": true,
        "id": "zQVBXVS64p_I"
      },
      "outputs": [],
      "execution_count": null
    },
    {
      "cell_type": "code",
      "source": [
        "generate_caption(\"101669240_b2d3e7f17b.jpg\")"
      ],
      "metadata": {
        "execution": {
          "iopub.status.busy": "2024-10-20T14:43:30.890581Z",
          "iopub.execute_input": "2024-10-20T14:43:30.890809Z",
          "iopub.status.idle": "2024-10-20T14:43:31.512899Z",
          "shell.execute_reply.started": "2024-10-20T14:43:30.890777Z",
          "shell.execute_reply": "2024-10-20T14:43:31.512116Z"
        },
        "trusted": true,
        "id": "RiRkzoQd4p_J"
      },
      "outputs": [],
      "execution_count": null
    },
    {
      "cell_type": "markdown",
      "source": [
        "# Final Thoughts\n",
        "\n",
        "+ Training the model by increasing the no. of epochs can give better and more accurate results.\n",
        "\n",
        "+ Processing large amount of data can take a lot of time and system resource.\n",
        "\n",
        "+ The no. of layers of the model can be increased if you want to process large dataset like flickr32k.\n",
        "\n",
        "\n",
        "\n",
        "**In this project , we have built an Image Caption Generator exploring the Flickr Dataset as an advanced deep learning project using different models from image extraction and text based processing.**"
      ],
      "metadata": {
        "id": "eggqPy364p_J"
      }
    }
  ]
}